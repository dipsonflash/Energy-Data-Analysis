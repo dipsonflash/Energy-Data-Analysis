{
 "cells": [
  {
   "cell_type": "markdown",
   "metadata": {},
   "source": [
    "# Energy Data Analysis\n",
    "A notebook which demonstrates energy usage in British Homes"
   ]
  },
  {
   "cell_type": "markdown",
   "metadata": {},
   "source": [
    "## Setup"
   ]
  },
  {
   "cell_type": "code",
   "execution_count": 17,
   "metadata": {},
   "outputs": [],
   "source": [
    "import pandas as pd\n",
    "import os\n",
    "fp=r'C:\\Users\\cvyb\\OneDrive - Loughborough University\\ERBE_YB\\Energy Analysis\\Energy-Data-Analysis\\CLEAN_REFIT_081116'"
   ]
  },
  {
   "cell_type": "markdown",
   "metadata": {},
   "source": [
    "# Data Processing"
   ]
  },
  {
   "cell_type": "code",
   "execution_count": null,
   "metadata": {},
   "outputs": [
    {
     "name": "stdout",
     "output_type": "stream",
     "text": [
      "CLEAN_House10.csv\n",
      "CLEAN_House11.csv\n",
      "CLEAN_House12.csv\n",
      "CLEAN_House13.csv\n",
      "CLEAN_House15.csv\n",
      "CLEAN_House16.csv\n",
      "CLEAN_House17.csv\n",
      "CLEAN_House18.csv\n",
      "CLEAN_House19.csv\n",
      "CLEAN_House2.csv\n",
      "CLEAN_House20.csv\n",
      "CLEAN_House21.csv\n",
      "CLEAN_House3.csv\n",
      "CLEAN_House4.csv\n",
      "CLEAN_House5.csv\n",
      "CLEAN_House6.csv\n",
      "CLEAN_House7.csv\n"
     ]
    }
   ],
   "source": [
    "flag=True\n",
    "for filename in os.listdir(fp):\n",
    "    print(filename)\n",
    "    path=os.path.join(fp,filename)\n",
    "    df=pd.read_csv(path,parse_dates=['Time'])\n",
    "    df=df.set_index('Time')\n",
    "    df=df.resample('30T').mean()\n",
    "    df=df.reset_index()\n",
    "    df['file']=filename\n",
    "    if flag:\n",
    "        df2=df\n",
    "        flag=False\n",
    "    else:\n",
    "        df2=df2.append(df)\n",
    "df2.to_csv('NewData.CSV')"
   ]
  },
  {
   "cell_type": "code",
   "execution_count": 19,
   "metadata": {},
   "outputs": [
    {
     "data": {
      "text/html": [
       "<div>\n",
       "<style scoped>\n",
       "    .dataframe tbody tr th:only-of-type {\n",
       "        vertical-align: middle;\n",
       "    }\n",
       "\n",
       "    .dataframe tbody tr th {\n",
       "        vertical-align: top;\n",
       "    }\n",
       "\n",
       "    .dataframe thead th {\n",
       "        text-align: right;\n",
       "    }\n",
       "</style>\n",
       "<table border=\"1\" class=\"dataframe\">\n",
       "  <thead>\n",
       "    <tr style=\"text-align: right;\">\n",
       "      <th></th>\n",
       "      <th>Time</th>\n",
       "      <th>Unix</th>\n",
       "      <th>Aggregate</th>\n",
       "      <th>Appliance1</th>\n",
       "      <th>Appliance2</th>\n",
       "      <th>Appliance3</th>\n",
       "      <th>Appliance4</th>\n",
       "      <th>Appliance5</th>\n",
       "      <th>Appliance6</th>\n",
       "      <th>Appliance7</th>\n",
       "      <th>Appliance8</th>\n",
       "      <th>Appliance9</th>\n",
       "      <th>Issues</th>\n",
       "      <th>file</th>\n",
       "    </tr>\n",
       "  </thead>\n",
       "  <tbody>\n",
       "    <tr>\n",
       "      <th>0</th>\n",
       "      <td>2013-11-20 11:31:18</td>\n",
       "      <td>1384947078</td>\n",
       "      <td>3078</td>\n",
       "      <td>0</td>\n",
       "      <td>70</td>\n",
       "      <td>0</td>\n",
       "      <td>0</td>\n",
       "      <td>0</td>\n",
       "      <td>2</td>\n",
       "      <td>25</td>\n",
       "      <td>0</td>\n",
       "      <td>0</td>\n",
       "      <td>0</td>\n",
       "      <td>CLEAN_House10.csv</td>\n",
       "    </tr>\n",
       "    <tr>\n",
       "      <th>1</th>\n",
       "      <td>2013-11-20 11:31:31</td>\n",
       "      <td>1384947091</td>\n",
       "      <td>3078</td>\n",
       "      <td>0</td>\n",
       "      <td>70</td>\n",
       "      <td>0</td>\n",
       "      <td>0</td>\n",
       "      <td>0</td>\n",
       "      <td>1</td>\n",
       "      <td>25</td>\n",
       "      <td>0</td>\n",
       "      <td>0</td>\n",
       "      <td>0</td>\n",
       "      <td>CLEAN_House10.csv</td>\n",
       "    </tr>\n",
       "    <tr>\n",
       "      <th>2</th>\n",
       "      <td>2013-11-20 11:31:45</td>\n",
       "      <td>1384947105</td>\n",
       "      <td>215</td>\n",
       "      <td>0</td>\n",
       "      <td>69</td>\n",
       "      <td>0</td>\n",
       "      <td>0</td>\n",
       "      <td>0</td>\n",
       "      <td>1</td>\n",
       "      <td>25</td>\n",
       "      <td>0</td>\n",
       "      <td>0</td>\n",
       "      <td>0</td>\n",
       "      <td>CLEAN_House10.csv</td>\n",
       "    </tr>\n",
       "    <tr>\n",
       "      <th>3</th>\n",
       "      <td>2013-11-20 11:31:58</td>\n",
       "      <td>1384947118</td>\n",
       "      <td>212</td>\n",
       "      <td>0</td>\n",
       "      <td>71</td>\n",
       "      <td>0</td>\n",
       "      <td>0</td>\n",
       "      <td>0</td>\n",
       "      <td>2</td>\n",
       "      <td>25</td>\n",
       "      <td>0</td>\n",
       "      <td>0</td>\n",
       "      <td>0</td>\n",
       "      <td>CLEAN_House10.csv</td>\n",
       "    </tr>\n",
       "    <tr>\n",
       "      <th>4</th>\n",
       "      <td>2013-11-20 11:32:18</td>\n",
       "      <td>1384947138</td>\n",
       "      <td>213</td>\n",
       "      <td>0</td>\n",
       "      <td>70</td>\n",
       "      <td>0</td>\n",
       "      <td>0</td>\n",
       "      <td>0</td>\n",
       "      <td>2</td>\n",
       "      <td>25</td>\n",
       "      <td>0</td>\n",
       "      <td>0</td>\n",
       "      <td>0</td>\n",
       "      <td>CLEAN_House10.csv</td>\n",
       "    </tr>\n",
       "  </tbody>\n",
       "</table>\n",
       "</div>"
      ],
      "text/plain": [
       "                  Time        Unix  Aggregate  Appliance1  Appliance2  \\\n",
       "0  2013-11-20 11:31:18  1384947078       3078           0          70   \n",
       "1  2013-11-20 11:31:31  1384947091       3078           0          70   \n",
       "2  2013-11-20 11:31:45  1384947105        215           0          69   \n",
       "3  2013-11-20 11:31:58  1384947118        212           0          71   \n",
       "4  2013-11-20 11:32:18  1384947138        213           0          70   \n",
       "\n",
       "   Appliance3  Appliance4  Appliance5  Appliance6  Appliance7  Appliance8  \\\n",
       "0           0           0           0           2          25           0   \n",
       "1           0           0           0           1          25           0   \n",
       "2           0           0           0           1          25           0   \n",
       "3           0           0           0           2          25           0   \n",
       "4           0           0           0           2          25           0   \n",
       "\n",
       "   Appliance9  Issues               file  \n",
       "0           0       0  CLEAN_House10.csv  \n",
       "1           0       0  CLEAN_House10.csv  \n",
       "2           0       0  CLEAN_House10.csv  \n",
       "3           0       0  CLEAN_House10.csv  \n",
       "4           0       0  CLEAN_House10.csv  "
      ]
     },
     "execution_count": 19,
     "metadata": {},
     "output_type": "execute_result"
    }
   ],
   "source": [
    "df['file']=filename\n",
    "df.head()"
   ]
  },
  {
   "cell_type": "code",
   "execution_count": null,
   "metadata": {},
   "outputs": [],
   "source": []
  }
 ],
 "metadata": {
  "kernelspec": {
   "display_name": "Python 3",
   "language": "python",
   "name": "python3"
  },
  "language_info": {
   "codemirror_mode": {
    "name": "ipython",
    "version": 3
   },
   "file_extension": ".py",
   "mimetype": "text/x-python",
   "name": "python",
   "nbconvert_exporter": "python",
   "pygments_lexer": "ipython3",
   "version": "3.7.3"
  }
 },
 "nbformat": 4,
 "nbformat_minor": 2
}
